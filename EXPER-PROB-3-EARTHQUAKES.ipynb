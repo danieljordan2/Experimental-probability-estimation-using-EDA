{
 "cells": [
  {
   "cell_type": "markdown",
   "metadata": {
    "id": "7uTqu6UnZIuP"
   },
   "source": [
    "--------------------------------------------\n",
    "# Estimation of the experimental probability of the occurrence of 3 large-magnitude earthquakes on the same date of the year in Mexico #\n",
    "--------------------------------------------\n",
    "\n",
    "\n",
    "## Problem statement ##\n",
    "\n",
    "Mexico is a country where many earthquakes occur, and some of them have caused catastrophic damage and many deaths. On September 19, 1985, an earthquake of great magnitude occurred (in Mexico City) that caused terrible damage and many deaths, leaving the date marked in the memory of Mexicans. So much so, that this date was chosen to carry out an annual prevention exercise (simulation) in the event of a major earthquake.\n",
    "\n",
    "Since then, two more large earthquakes have occurred on the same date: September 19, 2017 (Mexico City) and September 19, 2022 (Michoacán).\n",
    "\n",
    "¿What are the chances of this event?\n",
    "\n",
    "## Objective ##\n",
    "\n",
    "The objective of this exercise is to estimate the experimental probability of this coincidence and compare it with some theoretical results that are handled in various investigations. The idea is to verify informally if the theory effectively approaches what happens in reality.\n",
    "\n",
    "## Theoretical probability vs. experimental probability ##\n",
    "\n",
    "Theoretical probability is based on mathematical reasoning and represents the expectation that an event will occur.\n",
    "For its part, the experimental probability is based on what really happens, that is, it is calculated considering the frequency of occurrence of a given event.\n"
   ]
  },
  {
   "cell_type": "markdown",
   "metadata": {
    "id": "8FbHCKa_NBGQ"
   },
   "source": [
    "### **Importing the necessary libraries**"
   ]
  },
  {
   "cell_type": "code",
   "execution_count": 1,
   "metadata": {
    "id": "cNXGq81liYXe"
   },
   "outputs": [],
   "source": [
    "# Import the important libraries\n",
    "\n",
    "import pandas as pd  # Library used for data manipulation and analysis\n",
    "\n",
    "import numpy as np  # LIbrary used for working with arrays\n",
    "\n",
    "import matplotlib.pyplot as plt  # Library for visualization\n",
    "\n",
    "import seaborn as sns  # Library for visualization\n",
    "\n",
    "import scipy\n",
    "\n",
    "from scipy.stats import uniform\n",
    "\n",
    "%matplotlib inline\n",
    "\n",
    "import scipy.stats as stats  # This library contains a large number of probability distributions as well as a growing library of statistical functions\n",
    "\n",
    "from datetime import datetime, date\n",
    "\n",
    "import calendar\n",
    "\n",
    "import warnings\n",
    "warnings.filterwarnings(\"ignore\")"
   ]
  },
  {
   "cell_type": "markdown",
   "metadata": {
    "id": "sposkI4aH8_L"
   },
   "source": [
    "### Loading the dataset and checking the info"
   ]
  },
  {
   "cell_type": "code",
   "execution_count": 2,
   "metadata": {},
   "outputs": [
    {
     "data": {
      "text/html": [
       "<div>\n",
       "<style scoped>\n",
       "    .dataframe tbody tr th:only-of-type {\n",
       "        vertical-align: middle;\n",
       "    }\n",
       "\n",
       "    .dataframe tbody tr th {\n",
       "        vertical-align: top;\n",
       "    }\n",
       "\n",
       "    .dataframe thead th {\n",
       "        text-align: right;\n",
       "    }\n",
       "</style>\n",
       "<table border=\"1\" class=\"dataframe\">\n",
       "  <thead>\n",
       "    <tr style=\"text-align: right;\">\n",
       "      <th></th>\n",
       "      <th>Fecha</th>\n",
       "      <th>Hora</th>\n",
       "      <th>Magnitud</th>\n",
       "      <th>Latitud</th>\n",
       "      <th>Longitud</th>\n",
       "      <th>Profundidad</th>\n",
       "      <th>Referencia de localizacion</th>\n",
       "      <th>Fecha UTC</th>\n",
       "      <th>Hora UTC</th>\n",
       "      <th>Estatus</th>\n",
       "    </tr>\n",
       "  </thead>\n",
       "  <tbody>\n",
       "    <tr>\n",
       "      <th>0</th>\n",
       "      <td>20/01/1900</td>\n",
       "      <td>0:33:30</td>\n",
       "      <td>7.4</td>\n",
       "      <td>20.00</td>\n",
       "      <td>-105.00</td>\n",
       "      <td>33</td>\n",
       "      <td>71 km al NOROESTE de AUTLAN DE NAVARRO, JAL</td>\n",
       "      <td>20/01/1900</td>\n",
       "      <td>6:33:30</td>\n",
       "      <td>revisado</td>\n",
       "    </tr>\n",
       "    <tr>\n",
       "      <th>1</th>\n",
       "      <td>16/05/1900</td>\n",
       "      <td>14:12:00</td>\n",
       "      <td>6.9</td>\n",
       "      <td>20.00</td>\n",
       "      <td>-105.00</td>\n",
       "      <td>33</td>\n",
       "      <td>71 km al NOROESTE de AUTLAN DE NAVARRO, JAL</td>\n",
       "      <td>16/05/1900</td>\n",
       "      <td>20:12:00</td>\n",
       "      <td>revisado</td>\n",
       "    </tr>\n",
       "    <tr>\n",
       "      <th>2</th>\n",
       "      <td>05/03/1901</td>\n",
       "      <td>4:45:00</td>\n",
       "      <td>6.9</td>\n",
       "      <td>25.00</td>\n",
       "      <td>-110.00</td>\n",
       "      <td>33</td>\n",
       "      <td>100 km al NORESTE de LA PAZ, BCS</td>\n",
       "      <td>05/03/1901</td>\n",
       "      <td>10:45:00</td>\n",
       "      <td>revisado</td>\n",
       "    </tr>\n",
       "    <tr>\n",
       "      <th>3</th>\n",
       "      <td>08/12/1901</td>\n",
       "      <td>20:17:00</td>\n",
       "      <td>7.0</td>\n",
       "      <td>26.00</td>\n",
       "      <td>-110.00</td>\n",
       "      <td>33</td>\n",
       "      <td>83 km al OESTE de AHOME, SIN</td>\n",
       "      <td>09/12/1901</td>\n",
       "      <td>2:17:00</td>\n",
       "      <td>revisado</td>\n",
       "    </tr>\n",
       "    <tr>\n",
       "      <th>4</th>\n",
       "      <td>16/01/1902</td>\n",
       "      <td>17:19:00</td>\n",
       "      <td>7.0</td>\n",
       "      <td>17.62</td>\n",
       "      <td>-99.72</td>\n",
       "      <td>33</td>\n",
       "      <td>21 km al OESTE de ZUMPANGO DEL RIO, GRO</td>\n",
       "      <td>16/01/1902</td>\n",
       "      <td>23:19:00</td>\n",
       "      <td>revisado</td>\n",
       "    </tr>\n",
       "  </tbody>\n",
       "</table>\n",
       "</div>"
      ],
      "text/plain": [
       "        Fecha      Hora  Magnitud  Latitud  Longitud Profundidad  \\\n",
       "0  20/01/1900   0:33:30       7.4    20.00   -105.00          33   \n",
       "1  16/05/1900  14:12:00       6.9    20.00   -105.00          33   \n",
       "2  05/03/1901   4:45:00       6.9    25.00   -110.00          33   \n",
       "3  08/12/1901  20:17:00       7.0    26.00   -110.00          33   \n",
       "4  16/01/1902  17:19:00       7.0    17.62    -99.72          33   \n",
       "\n",
       "                    Referencia de localizacion   Fecha UTC  Hora UTC   Estatus  \n",
       "0  71 km al NOROESTE de AUTLAN DE NAVARRO, JAL  20/01/1900   6:33:30  revisado  \n",
       "1  71 km al NOROESTE de AUTLAN DE NAVARRO, JAL  16/05/1900  20:12:00  revisado  \n",
       "2             100 km al NORESTE de LA PAZ, BCS  05/03/1901  10:45:00  revisado  \n",
       "3                 83 km al OESTE de AHOME, SIN  09/12/1901   2:17:00  revisado  \n",
       "4      21 km al OESTE de ZUMPANGO DEL RIO, GRO  16/01/1902  23:19:00  revisado  "
      ]
     },
     "execution_count": 2,
     "metadata": {},
     "output_type": "execute_result"
    }
   ],
   "source": [
    "# Loading dataset\n",
    "sismos = pd.read_csv('sismosMX.csv')\n",
    "sismos.head()"
   ]
  },
  {
   "cell_type": "code",
   "execution_count": 3,
   "metadata": {},
   "outputs": [
    {
     "data": {
      "text/html": [
       "<div>\n",
       "<style scoped>\n",
       "    .dataframe tbody tr th:only-of-type {\n",
       "        vertical-align: middle;\n",
       "    }\n",
       "\n",
       "    .dataframe tbody tr th {\n",
       "        vertical-align: top;\n",
       "    }\n",
       "\n",
       "    .dataframe thead th {\n",
       "        text-align: right;\n",
       "    }\n",
       "</style>\n",
       "<table border=\"1\" class=\"dataframe\">\n",
       "  <thead>\n",
       "    <tr style=\"text-align: right;\">\n",
       "      <th></th>\n",
       "      <th>Fecha</th>\n",
       "      <th>Hora</th>\n",
       "      <th>Magnitud</th>\n",
       "      <th>Latitud</th>\n",
       "      <th>Longitud</th>\n",
       "      <th>Profundidad</th>\n",
       "      <th>Referencia de localizacion</th>\n",
       "      <th>Fecha UTC</th>\n",
       "      <th>Hora UTC</th>\n",
       "      <th>Estatus</th>\n",
       "    </tr>\n",
       "  </thead>\n",
       "  <tbody>\n",
       "    <tr>\n",
       "      <th>41225</th>\n",
       "      <td>21/09/2022</td>\n",
       "      <td>6:52:21</td>\n",
       "      <td>4.2</td>\n",
       "      <td>17.86</td>\n",
       "      <td>-103.08</td>\n",
       "      <td>11</td>\n",
       "      <td>82 km al OESTE de LA MIRA, MICH</td>\n",
       "      <td>21/09/2022</td>\n",
       "      <td>11:52:21</td>\n",
       "      <td>verificado</td>\n",
       "    </tr>\n",
       "    <tr>\n",
       "      <th>41226</th>\n",
       "      <td>21/09/2022</td>\n",
       "      <td>10:20:02</td>\n",
       "      <td>4.0</td>\n",
       "      <td>18.56</td>\n",
       "      <td>-103.57</td>\n",
       "      <td>13</td>\n",
       "      <td>50 km al SUROESTE de COALCOMAN, MICH</td>\n",
       "      <td>21/09/2022</td>\n",
       "      <td>15:20:02</td>\n",
       "      <td>verificado</td>\n",
       "    </tr>\n",
       "    <tr>\n",
       "      <th>41227</th>\n",
       "      <td>21/09/2022</td>\n",
       "      <td>10:59:23</td>\n",
       "      <td>4.0</td>\n",
       "      <td>18.21</td>\n",
       "      <td>-103.42</td>\n",
       "      <td>12</td>\n",
       "      <td>68 km al SUROESTE de COALCOMAN, MICH</td>\n",
       "      <td>21/09/2022</td>\n",
       "      <td>15:59:23</td>\n",
       "      <td>verificado</td>\n",
       "    </tr>\n",
       "    <tr>\n",
       "      <th>41228</th>\n",
       "      <td>21/09/2022</td>\n",
       "      <td>13:47:35</td>\n",
       "      <td>4.0</td>\n",
       "      <td>17.95</td>\n",
       "      <td>-103.36</td>\n",
       "      <td>8</td>\n",
       "      <td>94 km al SUR de COALCOMAN, MICH</td>\n",
       "      <td>21/09/2022</td>\n",
       "      <td>18:47:35</td>\n",
       "      <td>verificado</td>\n",
       "    </tr>\n",
       "    <tr>\n",
       "      <th>41229</th>\n",
       "      <td>21/09/2022</td>\n",
       "      <td>14:17:17</td>\n",
       "      <td>4.2</td>\n",
       "      <td>18.66</td>\n",
       "      <td>-103.41</td>\n",
       "      <td>11</td>\n",
       "      <td>29 km al SUROESTE de COALCOMAN, MICH</td>\n",
       "      <td>21/09/2022</td>\n",
       "      <td>19:17:17</td>\n",
       "      <td>verificado</td>\n",
       "    </tr>\n",
       "  </tbody>\n",
       "</table>\n",
       "</div>"
      ],
      "text/plain": [
       "            Fecha      Hora  Magnitud  Latitud  Longitud Profundidad  \\\n",
       "41225  21/09/2022   6:52:21       4.2    17.86   -103.08          11   \n",
       "41226  21/09/2022  10:20:02       4.0    18.56   -103.57          13   \n",
       "41227  21/09/2022  10:59:23       4.0    18.21   -103.42          12   \n",
       "41228  21/09/2022  13:47:35       4.0    17.95   -103.36           8   \n",
       "41229  21/09/2022  14:17:17       4.2    18.66   -103.41          11   \n",
       "\n",
       "                  Referencia de localizacion   Fecha UTC  Hora UTC     Estatus  \n",
       "41225       82 km al OESTE de LA MIRA, MICH   21/09/2022  11:52:21  verificado  \n",
       "41226  50 km al SUROESTE de COALCOMAN, MICH   21/09/2022  15:20:02  verificado  \n",
       "41227  68 km al SUROESTE de COALCOMAN, MICH   21/09/2022  15:59:23  verificado  \n",
       "41228       94 km al SUR de COALCOMAN, MICH   21/09/2022  18:47:35  verificado  \n",
       "41229  29 km al SUROESTE de COALCOMAN, MICH   21/09/2022  19:17:17  verificado  "
      ]
     },
     "execution_count": 3,
     "metadata": {},
     "output_type": "execute_result"
    }
   ],
   "source": [
    "sismos.tail()"
   ]
  },
  {
   "cell_type": "code",
   "execution_count": 4,
   "metadata": {},
   "outputs": [
    {
     "data": {
      "text/plain": [
       "(41230, 10)"
      ]
     },
     "execution_count": 4,
     "metadata": {},
     "output_type": "execute_result"
    }
   ],
   "source": [
    "sismos.shape"
   ]
  },
  {
   "cell_type": "code",
   "execution_count": 5,
   "metadata": {},
   "outputs": [
    {
     "name": "stdout",
     "output_type": "stream",
     "text": [
      "<class 'pandas.core.frame.DataFrame'>\n",
      "RangeIndex: 41230 entries, 0 to 41229\n",
      "Data columns (total 10 columns):\n",
      " #   Column                      Non-Null Count  Dtype  \n",
      "---  ------                      --------------  -----  \n",
      " 0   Fecha                       41230 non-null  object \n",
      " 1   Hora                        41230 non-null  object \n",
      " 2   Magnitud                    41230 non-null  float64\n",
      " 3   Latitud                     41230 non-null  float64\n",
      " 4   Longitud                    41230 non-null  float64\n",
      " 5   Profundidad                 41230 non-null  object \n",
      " 6   Referencia de localizacion  41230 non-null  object \n",
      " 7   Fecha UTC                   41230 non-null  object \n",
      " 8   Hora UTC                    41230 non-null  object \n",
      " 9   Estatus                     41230 non-null  object \n",
      "dtypes: float64(3), object(7)\n",
      "memory usage: 3.1+ MB\n"
     ]
    }
   ],
   "source": [
    "sismos.info()"
   ]
  },
  {
   "cell_type": "markdown",
   "metadata": {},
   "source": [
    "### Observations:\n",
    "\n",
    "* There are a total of 10 columns and 41,230 observations in the dataset.\n",
    "* There are no missing values.\n",
    "* 7 columns are object type and 3 are float type. Column \"Profundidad\" (depth) is categorical.\n",
    "* The first earthquake registered in the database is from 20/01/1900.\n",
    "* The last earthquake registered in the database is from 21/09/2022.\n",
    "* The first two columns are the local time and date and could be dropped. We are going to work with the UTC worldwide format. \n",
    "* The Status and Referencia columns could be dropped."
   ]
  },
  {
   "cell_type": "code",
   "execution_count": 6,
   "metadata": {},
   "outputs": [
    {
     "data": {
      "text/html": [
       "<div>\n",
       "<style scoped>\n",
       "    .dataframe tbody tr th:only-of-type {\n",
       "        vertical-align: middle;\n",
       "    }\n",
       "\n",
       "    .dataframe tbody tr th {\n",
       "        vertical-align: top;\n",
       "    }\n",
       "\n",
       "    .dataframe thead th {\n",
       "        text-align: right;\n",
       "    }\n",
       "</style>\n",
       "<table border=\"1\" class=\"dataframe\">\n",
       "  <thead>\n",
       "    <tr style=\"text-align: right;\">\n",
       "      <th></th>\n",
       "      <th>Magnitud</th>\n",
       "      <th>Latitud</th>\n",
       "      <th>Longitud</th>\n",
       "      <th>Profundidad</th>\n",
       "      <th>Fecha UTC</th>\n",
       "      <th>Hora UTC</th>\n",
       "    </tr>\n",
       "  </thead>\n",
       "  <tbody>\n",
       "    <tr>\n",
       "      <th>0</th>\n",
       "      <td>7.4</td>\n",
       "      <td>20.00</td>\n",
       "      <td>-105.00</td>\n",
       "      <td>33</td>\n",
       "      <td>20/01/1900</td>\n",
       "      <td>6:33:30</td>\n",
       "    </tr>\n",
       "    <tr>\n",
       "      <th>1</th>\n",
       "      <td>6.9</td>\n",
       "      <td>20.00</td>\n",
       "      <td>-105.00</td>\n",
       "      <td>33</td>\n",
       "      <td>16/05/1900</td>\n",
       "      <td>20:12:00</td>\n",
       "    </tr>\n",
       "    <tr>\n",
       "      <th>2</th>\n",
       "      <td>6.9</td>\n",
       "      <td>25.00</td>\n",
       "      <td>-110.00</td>\n",
       "      <td>33</td>\n",
       "      <td>05/03/1901</td>\n",
       "      <td>10:45:00</td>\n",
       "    </tr>\n",
       "    <tr>\n",
       "      <th>3</th>\n",
       "      <td>7.0</td>\n",
       "      <td>26.00</td>\n",
       "      <td>-110.00</td>\n",
       "      <td>33</td>\n",
       "      <td>09/12/1901</td>\n",
       "      <td>2:17:00</td>\n",
       "    </tr>\n",
       "    <tr>\n",
       "      <th>4</th>\n",
       "      <td>7.0</td>\n",
       "      <td>17.62</td>\n",
       "      <td>-99.72</td>\n",
       "      <td>33</td>\n",
       "      <td>16/01/1902</td>\n",
       "      <td>23:19:00</td>\n",
       "    </tr>\n",
       "    <tr>\n",
       "      <th>...</th>\n",
       "      <td>...</td>\n",
       "      <td>...</td>\n",
       "      <td>...</td>\n",
       "      <td>...</td>\n",
       "      <td>...</td>\n",
       "      <td>...</td>\n",
       "    </tr>\n",
       "    <tr>\n",
       "      <th>41225</th>\n",
       "      <td>4.2</td>\n",
       "      <td>17.86</td>\n",
       "      <td>-103.08</td>\n",
       "      <td>11</td>\n",
       "      <td>21/09/2022</td>\n",
       "      <td>11:52:21</td>\n",
       "    </tr>\n",
       "    <tr>\n",
       "      <th>41226</th>\n",
       "      <td>4.0</td>\n",
       "      <td>18.56</td>\n",
       "      <td>-103.57</td>\n",
       "      <td>13</td>\n",
       "      <td>21/09/2022</td>\n",
       "      <td>15:20:02</td>\n",
       "    </tr>\n",
       "    <tr>\n",
       "      <th>41227</th>\n",
       "      <td>4.0</td>\n",
       "      <td>18.21</td>\n",
       "      <td>-103.42</td>\n",
       "      <td>12</td>\n",
       "      <td>21/09/2022</td>\n",
       "      <td>15:59:23</td>\n",
       "    </tr>\n",
       "    <tr>\n",
       "      <th>41228</th>\n",
       "      <td>4.0</td>\n",
       "      <td>17.95</td>\n",
       "      <td>-103.36</td>\n",
       "      <td>8</td>\n",
       "      <td>21/09/2022</td>\n",
       "      <td>18:47:35</td>\n",
       "    </tr>\n",
       "    <tr>\n",
       "      <th>41229</th>\n",
       "      <td>4.2</td>\n",
       "      <td>18.66</td>\n",
       "      <td>-103.41</td>\n",
       "      <td>11</td>\n",
       "      <td>21/09/2022</td>\n",
       "      <td>19:17:17</td>\n",
       "    </tr>\n",
       "  </tbody>\n",
       "</table>\n",
       "<p>41230 rows × 6 columns</p>\n",
       "</div>"
      ],
      "text/plain": [
       "       Magnitud  Latitud  Longitud Profundidad   Fecha UTC  Hora UTC\n",
       "0           7.4    20.00   -105.00          33  20/01/1900   6:33:30\n",
       "1           6.9    20.00   -105.00          33  16/05/1900  20:12:00\n",
       "2           6.9    25.00   -110.00          33  05/03/1901  10:45:00\n",
       "3           7.0    26.00   -110.00          33  09/12/1901   2:17:00\n",
       "4           7.0    17.62    -99.72          33  16/01/1902  23:19:00\n",
       "...         ...      ...       ...         ...         ...       ...\n",
       "41225       4.2    17.86   -103.08          11  21/09/2022  11:52:21\n",
       "41226       4.0    18.56   -103.57          13  21/09/2022  15:20:02\n",
       "41227       4.0    18.21   -103.42          12  21/09/2022  15:59:23\n",
       "41228       4.0    17.95   -103.36           8  21/09/2022  18:47:35\n",
       "41229       4.2    18.66   -103.41          11  21/09/2022  19:17:17\n",
       "\n",
       "[41230 rows x 6 columns]"
      ]
     },
     "execution_count": 6,
     "metadata": {},
     "output_type": "execute_result"
    }
   ],
   "source": [
    "# Dropping unnecessary columns\n",
    "sismos1 = sismos.drop(['Fecha', 'Hora', 'Referencia de localizacion', 'Estatus'], axis=1)\n",
    "sismos1"
   ]
  },
  {
   "cell_type": "markdown",
   "metadata": {},
   "source": [
    "### Converting object data type to a float64 (column \"profundidad\")"
   ]
  },
  {
   "cell_type": "markdown",
   "metadata": {},
   "source": [
    "The column 'Profundidad' should be numerical but instead is categorical. It's necessary to find out why.\n",
    "Due to the fact the dataset only has earthquakes with depth lower than 400km and one decimal digit, any string with a length longer than 5 should be an anomaly."
   ]
  },
  {
   "cell_type": "code",
   "execution_count": 7,
   "metadata": {},
   "outputs": [
    {
     "data": {
      "text/plain": [
       "['en revision', 'en revision']"
      ]
     },
     "execution_count": 7,
     "metadata": {},
     "output_type": "execute_result"
    }
   ],
   "source": [
    "# Looking for strings longer than 5 characters.\n",
    "s = list()\n",
    "for item in sismos1.Profundidad:\n",
    "    if len(item) > 5:\n",
    "        s.append(item)\n",
    "s"
   ]
  },
  {
   "cell_type": "code",
   "execution_count": 8,
   "metadata": {},
   "outputs": [
    {
     "data": {
      "text/html": [
       "<div>\n",
       "<style scoped>\n",
       "    .dataframe tbody tr th:only-of-type {\n",
       "        vertical-align: middle;\n",
       "    }\n",
       "\n",
       "    .dataframe tbody tr th {\n",
       "        vertical-align: top;\n",
       "    }\n",
       "\n",
       "    .dataframe thead th {\n",
       "        text-align: right;\n",
       "    }\n",
       "</style>\n",
       "<table border=\"1\" class=\"dataframe\">\n",
       "  <thead>\n",
       "    <tr style=\"text-align: right;\">\n",
       "      <th></th>\n",
       "      <th>Magnitud</th>\n",
       "      <th>Latitud</th>\n",
       "      <th>Longitud</th>\n",
       "      <th>Profundidad</th>\n",
       "      <th>Fecha UTC</th>\n",
       "      <th>Hora UTC</th>\n",
       "    </tr>\n",
       "  </thead>\n",
       "  <tbody>\n",
       "    <tr>\n",
       "      <th>17472</th>\n",
       "      <td>4.2</td>\n",
       "      <td>13.5565</td>\n",
       "      <td>-92.1658</td>\n",
       "      <td>en revision</td>\n",
       "      <td>29/06/2012</td>\n",
       "      <td>16:40:01</td>\n",
       "    </tr>\n",
       "    <tr>\n",
       "      <th>20285</th>\n",
       "      <td>4.0</td>\n",
       "      <td>13.6932</td>\n",
       "      <td>-92.9562</td>\n",
       "      <td>en revision</td>\n",
       "      <td>15/03/2015</td>\n",
       "      <td>16:57:37</td>\n",
       "    </tr>\n",
       "  </tbody>\n",
       "</table>\n",
       "</div>"
      ],
      "text/plain": [
       "       Magnitud  Latitud  Longitud  Profundidad   Fecha UTC  Hora UTC\n",
       "17472       4.2  13.5565  -92.1658  en revision  29/06/2012  16:40:01\n",
       "20285       4.0  13.6932  -92.9562  en revision  15/03/2015  16:57:37"
      ]
     },
     "execution_count": 8,
     "metadata": {},
     "output_type": "execute_result"
    }
   ],
   "source": [
    "# Identifying which rows have the text 'en revision' instead of a numerical value.\n",
    "s = sismos1.query(\"Profundidad == 'en revision'\")\n",
    "s"
   ]
  },
  {
   "cell_type": "markdown",
   "metadata": {},
   "source": [
    "**Observations:**\n",
    "* There are only 2 rows with no useful data in the column \"Profundidad\" (depth).\n",
    "* These earthquakes have a low magnitud (4.0 and 4.2). They could be dropped."
   ]
  },
  {
   "cell_type": "code",
   "execution_count": 9,
   "metadata": {},
   "outputs": [],
   "source": [
    "# Dropping rows\n",
    "sismos2 = sismos1.query(\"Profundidad != 'en revision'\")"
   ]
  },
  {
   "cell_type": "code",
   "execution_count": 10,
   "metadata": {},
   "outputs": [],
   "source": [
    "# Converting column \"Profundidad\" to a float type\n",
    "sismos2[\"Profundidad\"] = sismos2.Profundidad.astype(float)"
   ]
  },
  {
   "cell_type": "code",
   "execution_count": 11,
   "metadata": {},
   "outputs": [
    {
     "name": "stdout",
     "output_type": "stream",
     "text": [
      "<class 'pandas.core.frame.DataFrame'>\n",
      "Int64Index: 41228 entries, 0 to 41229\n",
      "Data columns (total 6 columns):\n",
      " #   Column       Non-Null Count  Dtype  \n",
      "---  ------       --------------  -----  \n",
      " 0   Magnitud     41228 non-null  float64\n",
      " 1   Latitud      41228 non-null  float64\n",
      " 2   Longitud     41228 non-null  float64\n",
      " 3   Profundidad  41228 non-null  float64\n",
      " 4   Fecha UTC    41228 non-null  object \n",
      " 5   Hora UTC     41228 non-null  object \n",
      "dtypes: float64(4), object(2)\n",
      "memory usage: 2.2+ MB\n"
     ]
    }
   ],
   "source": [
    "sismos2.info()"
   ]
  },
  {
   "cell_type": "markdown",
   "metadata": {},
   "source": [
    "## Summary statistics for numerical columns"
   ]
  },
  {
   "cell_type": "code",
   "execution_count": 12,
   "metadata": {},
   "outputs": [
    {
     "data": {
      "text/html": [
       "<div>\n",
       "<style scoped>\n",
       "    .dataframe tbody tr th:only-of-type {\n",
       "        vertical-align: middle;\n",
       "    }\n",
       "\n",
       "    .dataframe tbody tr th {\n",
       "        vertical-align: top;\n",
       "    }\n",
       "\n",
       "    .dataframe thead th {\n",
       "        text-align: right;\n",
       "    }\n",
       "</style>\n",
       "<table border=\"1\" class=\"dataframe\">\n",
       "  <thead>\n",
       "    <tr style=\"text-align: right;\">\n",
       "      <th></th>\n",
       "      <th>count</th>\n",
       "      <th>mean</th>\n",
       "      <th>std</th>\n",
       "      <th>min</th>\n",
       "      <th>25%</th>\n",
       "      <th>50%</th>\n",
       "      <th>75%</th>\n",
       "      <th>max</th>\n",
       "    </tr>\n",
       "  </thead>\n",
       "  <tbody>\n",
       "    <tr>\n",
       "      <th>Magnitud</th>\n",
       "      <td>41228.0</td>\n",
       "      <td>4.238571</td>\n",
       "      <td>0.365120</td>\n",
       "      <td>4.000</td>\n",
       "      <td>4.00</td>\n",
       "      <td>4.10000</td>\n",
       "      <td>4.30</td>\n",
       "      <td>8.2000</td>\n",
       "    </tr>\n",
       "    <tr>\n",
       "      <th>Latitud</th>\n",
       "      <td>41228.0</td>\n",
       "      <td>17.045397</td>\n",
       "      <td>3.608507</td>\n",
       "      <td>10.271</td>\n",
       "      <td>15.27</td>\n",
       "      <td>16.09575</td>\n",
       "      <td>17.27</td>\n",
       "      <td>33.2658</td>\n",
       "    </tr>\n",
       "    <tr>\n",
       "      <th>Longitud</th>\n",
       "      <td>41228.0</td>\n",
       "      <td>-97.612023</td>\n",
       "      <td>5.476079</td>\n",
       "      <td>-120.595</td>\n",
       "      <td>-99.83</td>\n",
       "      <td>-95.22730</td>\n",
       "      <td>-94.09</td>\n",
       "      <td>-85.5467</td>\n",
       "    </tr>\n",
       "    <tr>\n",
       "      <th>Profundidad</th>\n",
       "      <td>41228.0</td>\n",
       "      <td>39.884743</td>\n",
       "      <td>43.574571</td>\n",
       "      <td>1.000</td>\n",
       "      <td>11.60</td>\n",
       "      <td>19.00000</td>\n",
       "      <td>55.80</td>\n",
       "      <td>338.0000</td>\n",
       "    </tr>\n",
       "  </tbody>\n",
       "</table>\n",
       "</div>"
      ],
      "text/plain": [
       "               count       mean        std      min    25%       50%    75%  \\\n",
       "Magnitud     41228.0   4.238571   0.365120    4.000   4.00   4.10000   4.30   \n",
       "Latitud      41228.0  17.045397   3.608507   10.271  15.27  16.09575  17.27   \n",
       "Longitud     41228.0 -97.612023   5.476079 -120.595 -99.83 -95.22730 -94.09   \n",
       "Profundidad  41228.0  39.884743  43.574571    1.000  11.60  19.00000  55.80   \n",
       "\n",
       "                  max  \n",
       "Magnitud       8.2000  \n",
       "Latitud       33.2658  \n",
       "Longitud     -85.5467  \n",
       "Profundidad  338.0000  "
      ]
     },
     "execution_count": 12,
     "metadata": {},
     "output_type": "execute_result"
    }
   ],
   "source": [
    "# num_cols contain numerical varibales \n",
    "num_cols = ['Magnitud', 'Latitud', 'Longitud', 'Profundidad']\n",
    "\n",
    "# Printing descriptive statistics of numerical columns\n",
    "sismos2[num_cols].describe().T"
   ]
  },
  {
   "cell_type": "markdown",
   "metadata": {},
   "source": [
    "**Observations:**\n",
    "* The mean magnitude of earthquakes in Mexico is 4.24.\n",
    "* 75% of earthquakes are 4.3 of magnitude or less.\n",
    "* The mean depth of earthquakes in Mexico is 39.9km: shallow earthquakes which are the most destructives. \n",
    "* 75% of earthquakes are ~56km depth or less (shallow).\n",
    "* There are values really large for magnitude (8.2) and depth (338km)."
   ]
  },
  {
   "cell_type": "markdown",
   "metadata": {},
   "source": [
    "## Analizying Magnitud (magnitude) and Profundidad (depth) data and checking outliers"
   ]
  },
  {
   "cell_type": "code",
   "execution_count": 13,
   "metadata": {},
   "outputs": [
    {
     "data": {
      "image/png": "[encoded data removed]",
      "text/plain": [
       "<Figure size 720x288 with 1 Axes>"
      ]
     },
     "metadata": {
      "needs_background": "light"
     },
     "output_type": "display_data"
    },
    {
     "data": {
      "image/png": "[encoded data removed]",
      "text/plain": [
       "<Figure size 720x288 with 1 Axes>"
      ]
     },
     "metadata": {
      "needs_background": "light"
     },
     "output_type": "display_data"
    }
   ],
   "source": [
    "# Plotting boxplot for Magnitud, Profundidad\n",
    "\n",
    "cols = ['Magnitud', 'Profundidad']\n",
    "\n",
    "for i in cols:\n",
    "    plt.figure(figsize = (10, 4))\n",
    "    sns.boxplot(x = sismos2[i])\n",
    "    plt.show()"
   ]
  },
  {
   "cell_type": "markdown",
   "metadata": {},
   "source": [
    "**Observations:**\n",
    "* There are many outliers to the right for both features.\n",
    "* Both features are skewed to the right.\n",
    "* Majority of outliers are smaller than 250kms depth."
   ]
  },
  {
   "cell_type": "markdown",
   "metadata": {},
   "source": [
    "**Let's find the value at upper whiskers to check how many observations are marked as outliers.**"
   ]
  },
  {
   "cell_type": "code",
   "execution_count": 14,
   "metadata": {},
   "outputs": [
    {
     "name": "stdout",
     "output_type": "stream",
     "text": [
      "The upper whisker for Magnitud is 4.75\n",
      "The upper whisker for Profundidad is 122.1 kms\n"
     ]
    }
   ],
   "source": [
    "# Calculating the upper whisker for the Magnitud and Profundidad variables\n",
    "\n",
    "Q1 = sismos2.quantile(q = 0.25) # First quartile\n",
    "Q3 = sismos2.quantile(q = 0.75) # Third quartile\n",
    "IQR = Q3 - Q1              # Inter Quartile Range\n",
    "\n",
    "upper_whisker_M = (Q3 + 1.5 * IQR)['Magnitud']   # Magnitud Upper Whisker\n",
    "upper_whisker_P = (Q3 + 1.5 * IQR)['Profundidad']  # Profundidad Upper Whisker\n",
    "\n",
    "print('The upper whisker for Magnitud is', upper_whisker_M)\n",
    "print('The upper whisker for Profundidad is', upper_whisker_P , 'kms')"
   ]
  },
  {
   "cell_type": "code",
   "execution_count": 15,
   "metadata": {},
   "outputs": [
    {
     "data": {
      "text/html": [
       "<div>\n",
       "<style scoped>\n",
       "    .dataframe tbody tr th:only-of-type {\n",
       "        vertical-align: middle;\n",
       "    }\n",
       "\n",
       "    .dataframe tbody tr th {\n",
       "        vertical-align: top;\n",
       "    }\n",
       "\n",
       "    .dataframe thead th {\n",
       "        text-align: right;\n",
       "    }\n",
       "</style>\n",
       "<table border=\"1\" class=\"dataframe\">\n",
       "  <thead>\n",
       "    <tr style=\"text-align: right;\">\n",
       "      <th></th>\n",
       "      <th>Magnitud</th>\n",
       "      <th>Latitud</th>\n",
       "      <th>Longitud</th>\n",
       "      <th>Profundidad</th>\n",
       "      <th>Fecha UTC</th>\n",
       "      <th>Hora UTC</th>\n",
       "    </tr>\n",
       "  </thead>\n",
       "  <tbody>\n",
       "    <tr>\n",
       "      <th>0</th>\n",
       "      <td>7.4</td>\n",
       "      <td>20.00</td>\n",
       "      <td>-105.00</td>\n",
       "      <td>33.0</td>\n",
       "      <td>20/01/1900</td>\n",
       "      <td>6:33:30</td>\n",
       "    </tr>\n",
       "    <tr>\n",
       "      <th>1</th>\n",
       "      <td>6.9</td>\n",
       "      <td>20.00</td>\n",
       "      <td>-105.00</td>\n",
       "      <td>33.0</td>\n",
       "      <td>16/05/1900</td>\n",
       "      <td>20:12:00</td>\n",
       "    </tr>\n",
       "    <tr>\n",
       "      <th>2</th>\n",
       "      <td>6.9</td>\n",
       "      <td>25.00</td>\n",
       "      <td>-110.00</td>\n",
       "      <td>33.0</td>\n",
       "      <td>05/03/1901</td>\n",
       "      <td>10:45:00</td>\n",
       "    </tr>\n",
       "    <tr>\n",
       "      <th>3</th>\n",
       "      <td>7.0</td>\n",
       "      <td>26.00</td>\n",
       "      <td>-110.00</td>\n",
       "      <td>33.0</td>\n",
       "      <td>09/12/1901</td>\n",
       "      <td>2:17:00</td>\n",
       "    </tr>\n",
       "    <tr>\n",
       "      <th>4</th>\n",
       "      <td>7.0</td>\n",
       "      <td>17.62</td>\n",
       "      <td>-99.72</td>\n",
       "      <td>33.0</td>\n",
       "      <td>16/01/1902</td>\n",
       "      <td>23:19:00</td>\n",
       "    </tr>\n",
       "    <tr>\n",
       "      <th>...</th>\n",
       "      <td>...</td>\n",
       "      <td>...</td>\n",
       "      <td>...</td>\n",
       "      <td>...</td>\n",
       "      <td>...</td>\n",
       "      <td>...</td>\n",
       "    </tr>\n",
       "    <tr>\n",
       "      <th>41187</th>\n",
       "      <td>7.7</td>\n",
       "      <td>18.22</td>\n",
       "      <td>-103.29</td>\n",
       "      <td>15.0</td>\n",
       "      <td>19/09/2022</td>\n",
       "      <td>18:05:09</td>\n",
       "    </tr>\n",
       "    <tr>\n",
       "      <th>41189</th>\n",
       "      <td>5.3</td>\n",
       "      <td>18.45</td>\n",
       "      <td>-103.88</td>\n",
       "      <td>6.0</td>\n",
       "      <td>19/09/2022</td>\n",
       "      <td>19:30:42</td>\n",
       "    </tr>\n",
       "    <tr>\n",
       "      <th>41200</th>\n",
       "      <td>5.8</td>\n",
       "      <td>18.27</td>\n",
       "      <td>-103.74</td>\n",
       "      <td>13.0</td>\n",
       "      <td>20/09/2022</td>\n",
       "      <td>8:17:13</td>\n",
       "    </tr>\n",
       "    <tr>\n",
       "      <th>41201</th>\n",
       "      <td>4.8</td>\n",
       "      <td>17.98</td>\n",
       "      <td>-103.21</td>\n",
       "      <td>12.0</td>\n",
       "      <td>20/09/2022</td>\n",
       "      <td>10:43:18</td>\n",
       "    </tr>\n",
       "    <tr>\n",
       "      <th>41208</th>\n",
       "      <td>5.4</td>\n",
       "      <td>18.14</td>\n",
       "      <td>-103.25</td>\n",
       "      <td>16.0</td>\n",
       "      <td>20/09/2022</td>\n",
       "      <td>19:04:29</td>\n",
       "    </tr>\n",
       "  </tbody>\n",
       "</table>\n",
       "<p>2964 rows × 6 columns</p>\n",
       "</div>"
      ],
      "text/plain": [
       "       Magnitud  Latitud  Longitud  Profundidad   Fecha UTC  Hora UTC\n",
       "0           7.4    20.00   -105.00         33.0  20/01/1900   6:33:30\n",
       "1           6.9    20.00   -105.00         33.0  16/05/1900  20:12:00\n",
       "2           6.9    25.00   -110.00         33.0  05/03/1901  10:45:00\n",
       "3           7.0    26.00   -110.00         33.0  09/12/1901   2:17:00\n",
       "4           7.0    17.62    -99.72         33.0  16/01/1902  23:19:00\n",
       "...         ...      ...       ...          ...         ...       ...\n",
       "41187       7.7    18.22   -103.29         15.0  19/09/2022  18:05:09\n",
       "41189       5.3    18.45   -103.88          6.0  19/09/2022  19:30:42\n",
       "41200       5.8    18.27   -103.74         13.0  20/09/2022   8:17:13\n",
       "41201       4.8    17.98   -103.21         12.0  20/09/2022  10:43:18\n",
       "41208       5.4    18.14   -103.25         16.0  20/09/2022  19:04:29\n",
       "\n",
       "[2964 rows x 6 columns]"
      ]
     },
     "execution_count": 15,
     "metadata": {},
     "output_type": "execute_result"
    }
   ],
   "source": [
    "# Checking the earthquakes marked as outliers for feature Magnitud\n",
    "sismos2[sismos2.Magnitud > upper_whisker_M]"
   ]
  },
  {
   "cell_type": "code",
   "execution_count": 16,
   "metadata": {},
   "outputs": [
    {
     "name": "stdout",
     "output_type": "stream",
     "text": [
      "7.2 % of earthquakes are outliers (> 4.75)\n"
     ]
    }
   ],
   "source": [
    "# Calculating percentage of outliers for Magnitud\n",
    "print(round((2964/41228)*100,1), '% of earthquakes are outliers (> 4.75)')"
   ]
  },
  {
   "cell_type": "markdown",
   "metadata": {},
   "source": [
    "**Let's compare the summary statistics for these observations with observations on the other side of the upper whisker.**"
   ]
  },
  {
   "cell_type": "code",
   "execution_count": 17,
   "metadata": {},
   "outputs": [
    {
     "data": {
      "text/html": [
       "<div>\n",
       "<style scoped>\n",
       "    .dataframe tbody tr th:only-of-type {\n",
       "        vertical-align: middle;\n",
       "    }\n",
       "\n",
       "    .dataframe tbody tr th {\n",
       "        vertical-align: top;\n",
       "    }\n",
       "\n",
       "    .dataframe thead th {\n",
       "        text-align: right;\n",
       "    }\n",
       "</style>\n",
       "<table border=\"1\" class=\"dataframe\">\n",
       "  <thead>\n",
       "    <tr style=\"text-align: right;\">\n",
       "      <th></th>\n",
       "      <th>count</th>\n",
       "      <th>mean</th>\n",
       "      <th>std</th>\n",
       "      <th>min</th>\n",
       "      <th>25%</th>\n",
       "      <th>50%</th>\n",
       "      <th>75%</th>\n",
       "      <th>max</th>\n",
       "    </tr>\n",
       "  </thead>\n",
       "  <tbody>\n",
       "    <tr>\n",
       "      <th>Magnitud</th>\n",
       "      <td>2964.0</td>\n",
       "      <td>5.232389</td>\n",
       "      <td>0.582809</td>\n",
       "      <td>4.800</td>\n",
       "      <td>4.90</td>\n",
       "      <td>5.0000</td>\n",
       "      <td>5.30</td>\n",
       "      <td>8.2000</td>\n",
       "    </tr>\n",
       "    <tr>\n",
       "      <th>Latitud</th>\n",
       "      <td>2964.0</td>\n",
       "      <td>17.346942</td>\n",
       "      <td>4.251858</td>\n",
       "      <td>10.271</td>\n",
       "      <td>14.58</td>\n",
       "      <td>16.0211</td>\n",
       "      <td>18.12</td>\n",
       "      <td>33.2658</td>\n",
       "    </tr>\n",
       "    <tr>\n",
       "      <th>Longitud</th>\n",
       "      <td>2964.0</td>\n",
       "      <td>-98.561399</td>\n",
       "      <td>6.917060</td>\n",
       "      <td>-119.473</td>\n",
       "      <td>-102.58</td>\n",
       "      <td>-96.5780</td>\n",
       "      <td>-92.99</td>\n",
       "      <td>-86.1800</td>\n",
       "    </tr>\n",
       "    <tr>\n",
       "      <th>Profundidad</th>\n",
       "      <td>2964.0</td>\n",
       "      <td>37.826181</td>\n",
       "      <td>40.388967</td>\n",
       "      <td>1.000</td>\n",
       "      <td>12.00</td>\n",
       "      <td>21.0000</td>\n",
       "      <td>46.00</td>\n",
       "      <td>334.0000</td>\n",
       "    </tr>\n",
       "  </tbody>\n",
       "</table>\n",
       "</div>"
      ],
      "text/plain": [
       "              count       mean        std      min     25%      50%    75%  \\\n",
       "Magnitud     2964.0   5.232389   0.582809    4.800    4.90   5.0000   5.30   \n",
       "Latitud      2964.0  17.346942   4.251858   10.271   14.58  16.0211  18.12   \n",
       "Longitud     2964.0 -98.561399   6.917060 -119.473 -102.58 -96.5780 -92.99   \n",
       "Profundidad  2964.0  37.826181  40.388967    1.000   12.00  21.0000  46.00   \n",
       "\n",
       "                  max  \n",
       "Magnitud       8.2000  \n",
       "Latitud       33.2658  \n",
       "Longitud     -86.1800  \n",
       "Profundidad  334.0000  "
      ]
     },
     "execution_count": 17,
     "metadata": {},
     "output_type": "execute_result"
    }
   ],
   "source": [
    "# Checking the summary statistics for observations (Magnitud) marked as outliers\n",
    "sismos2[sismos2.Magnitud > upper_whisker_M].describe().T"
   ]
  },
  {
   "cell_type": "markdown",
   "metadata": {},
   "source": [
    "**Observations for Magnitud outliers:**\n",
    "* The mean Magnitud for outliers is 5.2, higher than the overall mean (4.2). This behavior is logical.\n",
    "* The mean Profundidad (depth) is 37.8kms, lesser than the overall mean (39.9kms) which is also logical: bigger the magnitude lesser the depth."
   ]
  },
  {
   "cell_type": "code",
   "execution_count": 18,
   "metadata": {},
   "outputs": [
    {
     "data": {
      "text/html": [
       "<div>\n",
       "<style scoped>\n",
       "    .dataframe tbody tr th:only-of-type {\n",
       "        vertical-align: middle;\n",
       "    }\n",
       "\n",
       "    .dataframe tbody tr th {\n",
       "        vertical-align: top;\n",
       "    }\n",
       "\n",
       "    .dataframe thead th {\n",
       "        text-align: right;\n",
       "    }\n",
       "</style>\n",
       "<table border=\"1\" class=\"dataframe\">\n",
       "  <thead>\n",
       "    <tr style=\"text-align: right;\">\n",
       "      <th></th>\n",
       "      <th>Magnitud</th>\n",
       "      <th>Latitud</th>\n",
       "      <th>Longitud</th>\n",
       "      <th>Profundidad</th>\n",
       "      <th>Fecha UTC</th>\n",
       "      <th>Hora UTC</th>\n",
       "    </tr>\n",
       "  </thead>\n",
       "  <tbody>\n",
       "    <tr>\n",
       "      <th>29</th>\n",
       "      <td>7.2</td>\n",
       "      <td>17.00</td>\n",
       "      <td>-92.00</td>\n",
       "      <td>150.0</td>\n",
       "      <td>30/03/1914</td>\n",
       "      <td>0:41:18</td>\n",
       "    </tr>\n",
       "    <tr>\n",
       "      <th>32</th>\n",
       "      <td>7.0</td>\n",
       "      <td>17.50</td>\n",
       "      <td>-95.00</td>\n",
       "      <td>150.0</td>\n",
       "      <td>02/06/1916</td>\n",
       "      <td>13:59:24</td>\n",
       "    </tr>\n",
       "    <tr>\n",
       "      <th>88</th>\n",
       "      <td>6.7</td>\n",
       "      <td>15.00</td>\n",
       "      <td>-91.25</td>\n",
       "      <td>200.0</td>\n",
       "      <td>27/10/1945</td>\n",
       "      <td>11:24:41</td>\n",
       "    </tr>\n",
       "    <tr>\n",
       "      <th>90</th>\n",
       "      <td>6.9</td>\n",
       "      <td>17.00</td>\n",
       "      <td>-94.50</td>\n",
       "      <td>130.0</td>\n",
       "      <td>11/07/1946</td>\n",
       "      <td>4:46:42</td>\n",
       "    </tr>\n",
       "    <tr>\n",
       "      <th>107</th>\n",
       "      <td>6.9</td>\n",
       "      <td>15.50</td>\n",
       "      <td>-92.50</td>\n",
       "      <td>200.0</td>\n",
       "      <td>26/09/1955</td>\n",
       "      <td>8:28:20</td>\n",
       "    </tr>\n",
       "    <tr>\n",
       "      <th>...</th>\n",
       "      <td>...</td>\n",
       "      <td>...</td>\n",
       "      <td>...</td>\n",
       "      <td>...</td>\n",
       "      <td>...</td>\n",
       "      <td>...</td>\n",
       "    </tr>\n",
       "    <tr>\n",
       "      <th>41144</th>\n",
       "      <td>4.3</td>\n",
       "      <td>17.86</td>\n",
       "      <td>-94.72</td>\n",
       "      <td>159.0</td>\n",
       "      <td>13/09/2022</td>\n",
       "      <td>11:16:19</td>\n",
       "    </tr>\n",
       "    <tr>\n",
       "      <th>41157</th>\n",
       "      <td>4.2</td>\n",
       "      <td>17.32</td>\n",
       "      <td>-94.70</td>\n",
       "      <td>139.0</td>\n",
       "      <td>15/09/2022</td>\n",
       "      <td>21:03:24</td>\n",
       "    </tr>\n",
       "    <tr>\n",
       "      <th>41169</th>\n",
       "      <td>4.2</td>\n",
       "      <td>15.36</td>\n",
       "      <td>-92.45</td>\n",
       "      <td>166.0</td>\n",
       "      <td>17/09/2022</td>\n",
       "      <td>7:54:40</td>\n",
       "    </tr>\n",
       "    <tr>\n",
       "      <th>41183</th>\n",
       "      <td>4.1</td>\n",
       "      <td>16.84</td>\n",
       "      <td>-93.87</td>\n",
       "      <td>162.0</td>\n",
       "      <td>19/09/2022</td>\n",
       "      <td>12:49:59</td>\n",
       "    </tr>\n",
       "    <tr>\n",
       "      <th>41190</th>\n",
       "      <td>4.0</td>\n",
       "      <td>16.68</td>\n",
       "      <td>-93.93</td>\n",
       "      <td>146.0</td>\n",
       "      <td>19/09/2022</td>\n",
       "      <td>22:38:14</td>\n",
       "    </tr>\n",
       "  </tbody>\n",
       "</table>\n",
       "<p>3110 rows × 6 columns</p>\n",
       "</div>"
      ],
      "text/plain": [
       "       Magnitud  Latitud  Longitud  Profundidad   Fecha UTC  Hora UTC\n",
       "29          7.2    17.00    -92.00        150.0  30/03/1914   0:41:18\n",
       "32          7.0    17.50    -95.00        150.0  02/06/1916  13:59:24\n",
       "88          6.7    15.00    -91.25        200.0  27/10/1945  11:24:41\n",
       "90          6.9    17.00    -94.50        130.0  11/07/1946   4:46:42\n",
       "107         6.9    15.50    -92.50        200.0  26/09/1955   8:28:20\n",
       "...         ...      ...       ...          ...         ...       ...\n",
       "41144       4.3    17.86    -94.72        159.0  13/09/2022  11:16:19\n",
       "41157       4.2    17.32    -94.70        139.0  15/09/2022  21:03:24\n",
       "41169       4.2    15.36    -92.45        166.0  17/09/2022   7:54:40\n",
       "41183       4.1    16.84    -93.87        162.0  19/09/2022  12:49:59\n",
       "41190       4.0    16.68    -93.93        146.0  19/09/2022  22:38:14\n",
       "\n",
       "[3110 rows x 6 columns]"
      ]
     },
     "execution_count": 18,
     "metadata": {},
     "output_type": "execute_result"
    }
   ],
   "source": [
    "# Checking the earthquakes marked as outliers for feature Profundidad\n",
    "sismos2[sismos2.Profundidad > upper_whisker_P]"
   ]
  },
  {
   "cell_type": "code",
   "execution_count": 19,
   "metadata": {},
   "outputs": [
    {
     "name": "stdout",
     "output_type": "stream",
     "text": [
      "7.5 % of earthquakes are outliers (> 122.1kms)\n"
     ]
    }
   ],
   "source": [
    "# Calculating percentage of outliers for Profunidad\n",
    "print(round((3110/41228)*100,1), '% of earthquakes are outliers (> 122.1kms)')"
   ]
  },
  {
   "cell_type": "markdown",
   "metadata": {},
   "source": [
    "**Let's compare the summary statistics for these observations with observations on the other side of the upper whisker.**"
   ]
  },
  {
   "cell_type": "code",
   "execution_count": 20,
   "metadata": {},
   "outputs": [
    {
     "data": {
      "text/html": [
       "<div>\n",
       "<style scoped>\n",
       "    .dataframe tbody tr th:only-of-type {\n",
       "        vertical-align: middle;\n",
       "    }\n",
       "\n",
       "    .dataframe tbody tr th {\n",
       "        vertical-align: top;\n",
       "    }\n",
       "\n",
       "    .dataframe thead th {\n",
       "        text-align: right;\n",
       "    }\n",
       "</style>\n",
       "<table border=\"1\" class=\"dataframe\">\n",
       "  <thead>\n",
       "    <tr style=\"text-align: right;\">\n",
       "      <th></th>\n",
       "      <th>count</th>\n",
       "      <th>mean</th>\n",
       "      <th>std</th>\n",
       "      <th>min</th>\n",
       "      <th>25%</th>\n",
       "      <th>50%</th>\n",
       "      <th>75%</th>\n",
       "      <th>max</th>\n",
       "    </tr>\n",
       "  </thead>\n",
       "  <tbody>\n",
       "    <tr>\n",
       "      <th>Magnitud</th>\n",
       "      <td>3110.0</td>\n",
       "      <td>4.192990</td>\n",
       "      <td>0.296873</td>\n",
       "      <td>4.00</td>\n",
       "      <td>4.0000</td>\n",
       "      <td>4.10000</td>\n",
       "      <td>4.200000</td>\n",
       "      <td>7.20</td>\n",
       "    </tr>\n",
       "    <tr>\n",
       "      <th>Latitud</th>\n",
       "      <td>3110.0</td>\n",
       "      <td>16.702343</td>\n",
       "      <td>0.977868</td>\n",
       "      <td>13.01</td>\n",
       "      <td>16.2900</td>\n",
       "      <td>16.99200</td>\n",
       "      <td>17.329575</td>\n",
       "      <td>22.56</td>\n",
       "    </tr>\n",
       "    <tr>\n",
       "      <th>Longitud</th>\n",
       "      <td>3110.0</td>\n",
       "      <td>-94.078086</td>\n",
       "      <td>1.582205</td>\n",
       "      <td>-105.33</td>\n",
       "      <td>-94.7343</td>\n",
       "      <td>-94.26915</td>\n",
       "      <td>-93.480425</td>\n",
       "      <td>-87.59</td>\n",
       "    </tr>\n",
       "    <tr>\n",
       "      <th>Profundidad</th>\n",
       "      <td>3110.0</td>\n",
       "      <td>155.077910</td>\n",
       "      <td>27.240916</td>\n",
       "      <td>122.20</td>\n",
       "      <td>134.6000</td>\n",
       "      <td>148.00000</td>\n",
       "      <td>168.500000</td>\n",
       "      <td>338.00</td>\n",
       "    </tr>\n",
       "  </tbody>\n",
       "</table>\n",
       "</div>"
      ],
      "text/plain": [
       "              count        mean        std     min       25%        50%  \\\n",
       "Magnitud     3110.0    4.192990   0.296873    4.00    4.0000    4.10000   \n",
       "Latitud      3110.0   16.702343   0.977868   13.01   16.2900   16.99200   \n",
       "Longitud     3110.0  -94.078086   1.582205 -105.33  -94.7343  -94.26915   \n",
       "Profundidad  3110.0  155.077910  27.240916  122.20  134.6000  148.00000   \n",
       "\n",
       "                    75%     max  \n",
       "Magnitud       4.200000    7.20  \n",
       "Latitud       17.329575   22.56  \n",
       "Longitud     -93.480425  -87.59  \n",
       "Profundidad  168.500000  338.00  "
      ]
     },
     "execution_count": 20,
     "metadata": {},
     "output_type": "execute_result"
    }
   ],
   "source": [
    "# Checking the summary statistics for observations (profundidad) marked as outliers\n",
    "sismos2[sismos2.Profundidad > upper_whisker_P].describe().T"
   ]
  },
  {
   "cell_type": "markdown",
   "metadata": {},
   "source": [
    "**Observations for Profundidad outliers:**\n",
    "* The mean Magnitud for outliers is 4.2, equal than the overall mean (4.2). This behavior is logical: deeper the earthquake lesser the magnitude.\n",
    "* The mean Profundidad (depth) is 155.1kms, greather than the overall mean (39.9kms) which is also logical."
   ]
  },
  {
   "cell_type": "markdown",
   "metadata": {},
   "source": [
    "### **Let's check the correlation among the variables**"
   ]
  },
  {
   "cell_type": "code",
   "execution_count": 21,
   "metadata": {},
   "outputs": [
    {
     "data": {
      "image/png": "[encoded data removed]",
      "text/plain": [
       "<Figure size 720x720 with 2 Axes>"
      ]
     },
     "metadata": {
      "needs_background": "light"
     },
     "output_type": "display_data"
    }
   ],
   "source": [
    "# Plotting the correlation map\n",
    "plt.figure(figsize  = (10, 10))\n",
    "sns.heatmap(sismos2.corr(), annot = True, cmap = \"YlGnBu\")\n",
    "plt.show()"
   ]
  },
  {
   "cell_type": "markdown",
   "metadata": {},
   "source": [
    "**Observations:**\n",
    "* There is a strong correlation (negative) between Latitud (latitude) and Longitud (longitude): the more the south the more the west; the more the north the more the east.\n",
    "* There is positive correlation between Profundidad (depth) and Longitud (longitude)."
   ]
  },
  {
   "cell_type": "markdown",
   "metadata": {},
   "source": [
    "## Checking the distribution for Magnitud and Profundidad ##\n",
    "To apply scipy library properly it's desirable to add an integer type column that represents the date (Fecha UTC).\n",
    "\n",
    "To calculate the probability of the event \"3 earthquakes of magnitude greater or equal to 7.0 occurring on the same date of the year\", it's necessary to eliminate values less than 7.0."
   ]
  },
  {
   "cell_type": "code",
   "execution_count": 22,
   "metadata": {},
   "outputs": [
    {
     "data": {
      "text/html": [
       "<div>\n",
       "<style scoped>\n",
       "    .dataframe tbody tr th:only-of-type {\n",
       "        vertical-align: middle;\n",
       "    }\n",
       "\n",
       "    .dataframe tbody tr th {\n",
       "        vertical-align: top;\n",
       "    }\n",
       "\n",
       "    .dataframe thead th {\n",
       "        text-align: right;\n",
       "    }\n",
       "</style>\n",
       "<table border=\"1\" class=\"dataframe\">\n",
       "  <thead>\n",
       "    <tr style=\"text-align: right;\">\n",
       "      <th></th>\n",
       "      <th>Magnitud</th>\n",
       "      <th>Latitud</th>\n",
       "      <th>Longitud</th>\n",
       "      <th>Profundidad</th>\n",
       "      <th>Fecha UTC</th>\n",
       "      <th>Hora UTC</th>\n",
       "      <th>Dia</th>\n",
       "    </tr>\n",
       "  </thead>\n",
       "  <tbody>\n",
       "    <tr>\n",
       "      <th>0</th>\n",
       "      <td>7.4</td>\n",
       "      <td>20.00</td>\n",
       "      <td>-105.00</td>\n",
       "      <td>33.0</td>\n",
       "      <td>20/01/1900</td>\n",
       "      <td>6:33:30</td>\n",
       "      <td>20</td>\n",
       "    </tr>\n",
       "    <tr>\n",
       "      <th>1</th>\n",
       "      <td>6.9</td>\n",
       "      <td>20.00</td>\n",
       "      <td>-105.00</td>\n",
       "      <td>33.0</td>\n",
       "      <td>16/05/1900</td>\n",
       "      <td>20:12:00</td>\n",
       "      <td>137</td>\n",
       "    </tr>\n",
       "    <tr>\n",
       "      <th>2</th>\n",
       "      <td>6.9</td>\n",
       "      <td>25.00</td>\n",
       "      <td>-110.00</td>\n",
       "      <td>33.0</td>\n",
       "      <td>05/03/1901</td>\n",
       "      <td>10:45:00</td>\n",
       "      <td>65</td>\n",
       "    </tr>\n",
       "    <tr>\n",
       "      <th>3</th>\n",
       "      <td>7.0</td>\n",
       "      <td>26.00</td>\n",
       "      <td>-110.00</td>\n",
       "      <td>33.0</td>\n",
       "      <td>09/12/1901</td>\n",
       "      <td>2:17:00</td>\n",
       "      <td>344</td>\n",
       "    </tr>\n",
       "    <tr>\n",
       "      <th>4</th>\n",
       "      <td>7.0</td>\n",
       "      <td>17.62</td>\n",
       "      <td>-99.72</td>\n",
       "      <td>33.0</td>\n",
       "      <td>16/01/1902</td>\n",
       "      <td>23:19:00</td>\n",
       "      <td>16</td>\n",
       "    </tr>\n",
       "    <tr>\n",
       "      <th>...</th>\n",
       "      <td>...</td>\n",
       "      <td>...</td>\n",
       "      <td>...</td>\n",
       "      <td>...</td>\n",
       "      <td>...</td>\n",
       "      <td>...</td>\n",
       "      <td>...</td>\n",
       "    </tr>\n",
       "    <tr>\n",
       "      <th>41225</th>\n",
       "      <td>4.2</td>\n",
       "      <td>17.86</td>\n",
       "      <td>-103.08</td>\n",
       "      <td>11.0</td>\n",
       "      <td>21/09/2022</td>\n",
       "      <td>11:52:21</td>\n",
       "      <td>265</td>\n",
       "    </tr>\n",
       "    <tr>\n",
       "      <th>41226</th>\n",
       "      <td>4.0</td>\n",
       "      <td>18.56</td>\n",
       "      <td>-103.57</td>\n",
       "      <td>13.0</td>\n",
       "      <td>21/09/2022</td>\n",
       "      <td>15:20:02</td>\n",
       "      <td>265</td>\n",
       "    </tr>\n",
       "    <tr>\n",
       "      <th>41227</th>\n",
       "      <td>4.0</td>\n",
       "      <td>18.21</td>\n",
       "      <td>-103.42</td>\n",
       "      <td>12.0</td>\n",
       "      <td>21/09/2022</td>\n",
       "      <td>15:59:23</td>\n",
       "      <td>265</td>\n",
       "    </tr>\n",
       "    <tr>\n",
       "      <th>41228</th>\n",
       "      <td>4.0</td>\n",
       "      <td>17.95</td>\n",
       "      <td>-103.36</td>\n",
       "      <td>8.0</td>\n",
       "      <td>21/09/2022</td>\n",
       "      <td>18:47:35</td>\n",
       "      <td>265</td>\n",
       "    </tr>\n",
       "    <tr>\n",
       "      <th>41229</th>\n",
       "      <td>4.2</td>\n",
       "      <td>18.66</td>\n",
       "      <td>-103.41</td>\n",
       "      <td>11.0</td>\n",
       "      <td>21/09/2022</td>\n",
       "      <td>19:17:17</td>\n",
       "      <td>265</td>\n",
       "    </tr>\n",
       "  </tbody>\n",
       "</table>\n",
       "<p>41228 rows × 7 columns</p>\n",
       "</div>"
      ],
      "text/plain": [
       "       Magnitud  Latitud  Longitud  Profundidad   Fecha UTC  Hora UTC  Dia\n",
       "0           7.4    20.00   -105.00         33.0  20/01/1900   6:33:30   20\n",
       "1           6.9    20.00   -105.00         33.0  16/05/1900  20:12:00  137\n",
       "2           6.9    25.00   -110.00         33.0  05/03/1901  10:45:00   65\n",
       "3           7.0    26.00   -110.00         33.0  09/12/1901   2:17:00  344\n",
       "4           7.0    17.62    -99.72         33.0  16/01/1902  23:19:00   16\n",
       "...         ...      ...       ...          ...         ...       ...  ...\n",
       "41225       4.2    17.86   -103.08         11.0  21/09/2022  11:52:21  265\n",
       "41226       4.0    18.56   -103.57         13.0  21/09/2022  15:20:02  265\n",
       "41227       4.0    18.21   -103.42         12.0  21/09/2022  15:59:23  265\n",
       "41228       4.0    17.95   -103.36          8.0  21/09/2022  18:47:35  265\n",
       "41229       4.2    18.66   -103.41         11.0  21/09/2022  19:17:17  265\n",
       "\n",
       "[41228 rows x 7 columns]"
      ]
     },
     "execution_count": 22,
     "metadata": {},
     "output_type": "execute_result"
    }
   ],
   "source": [
    "# Adding a numerical colummn to identify dates with integers (Dia)\n",
    "s = list()\n",
    "for i in sismos2['Fecha UTC']:\n",
    "    d = i[0:2]\n",
    "    m = i[3:5]\n",
    "    y = i[6:10]\n",
    "    day_of_year = date(int(y), int(m), int(d)).timetuple().tm_yday\n",
    "    if calendar.isleap(int(y)):\n",
    "        s.append(day_of_year)\n",
    "    elif not(calendar.isleap(int(y))) and day_of_year >= 60:\n",
    "        s.append(day_of_year + 1)\n",
    "    else:\n",
    "        s.append(day_of_year)\n",
    "\n",
    "sismos2['Dia'] = s\n",
    "sismos2"
   ]
  },
  {
   "cell_type": "markdown",
   "metadata": {},
   "source": [
    "In order to summarize the total amount of earthquakes per date we need to create an array. One array for all earthquakes and other for those greater to 7.0 of magnitude."
   ]
  },
  {
   "cell_type": "code",
   "execution_count": 23,
   "metadata": {},
   "outputs": [],
   "source": [
    "# Creating arrays that summarizes earthquakes per each day of the year.\n",
    "# Arrays size is 366 because we need to keep track of every day including feb 29 (day 60).\n",
    "sum_days_year_all = np.zeros(366)\n",
    "sum_days_year_mag7 = np.zeros(366)"
   ]
  },
  {
   "cell_type": "code",
   "execution_count": 24,
   "metadata": {},
   "outputs": [
    {
     "name": "stdout",
     "output_type": "stream",
     "text": [
      "[120. 105.  91.  91.  97. 106.  95. 104.  98. 108. 113. 131. 102. 107.\n",
      " 117. 109. 141.  98. 118. 108. 133. 111. 122. 105. 107. 134. 134. 104.\n",
      " 103. 102. 106. 128. 131. 104. 135. 105. 119. 102.  96. 124. 105. 110.\n",
      " 103. 103. 118.  80. 101. 129.  89. 119. 123. 108. 108. 108. 108. 171.\n",
      " 147. 123. 130.  32.  95. 125. 102. 106. 119.  91. 111.  91.  93. 114.\n",
      "  98. 124. 121. 124. 101.  91.  99. 101.  98. 131. 124. 145.  99. 125.\n",
      " 127. 110. 105. 130. 113. 102. 109. 146.  97. 107. 110. 135. 132. 132.\n",
      " 108. 100.  94. 114. 107. 148. 100. 112. 109. 102. 144. 110. 110. 105.\n",
      " 119. 134. 115. 117. 100. 112. 105. 107.  88. 108. 109. 106.  95. 106.\n",
      " 101. 114. 133. 117. 102. 106. 110.  99. 104. 117.  96.  79.  86.  89.\n",
      "  98.  92. 104. 100. 103. 105.  90. 101. 104. 123. 138. 111. 102. 114.\n",
      " 101. 102.  99. 104. 115.  98. 106. 112. 136.  99.  96. 122. 117. 103.\n",
      "  83. 113. 111. 129. 106. 112. 127. 143. 135. 114. 110.  94. 101. 101.\n",
      " 118.  84.  95. 113. 105. 107.  92.  97.  86.  96. 113. 111. 100.  89.\n",
      "  91. 102. 130.  81. 122. 114.  91.  99.  81. 122.  80.  83.  87. 122.\n",
      "  75.  98.  87. 103. 106.  92. 100. 104. 101.  88.  86.  94. 101. 101.\n",
      "  84.  92. 108.  91.  95. 110. 102.  95.  86. 101. 103.  94. 102.  93.\n",
      " 130.  85.  94.  90.  94.  83.  90.  85. 122.  81.  88.  92. 112. 268.\n",
      " 225. 212. 189. 156. 196. 169. 159. 204. 160. 145. 185. 180. 141. 153.\n",
      " 161. 162. 118. 161. 138. 135. 144. 149. 156. 146. 143. 108. 105. 120.\n",
      " 143. 113. 130. 112. 143. 147. 131. 133. 117. 143. 131. 113. 152. 134.\n",
      "  98. 112. 121. 116. 130.  92.  97. 116. 128. 103.  99. 116. 120. 134.\n",
      "  80. 138. 100. 116. 111.  94.  90.  96. 118.  99. 114. 106.  91. 117.\n",
      " 101. 108. 125. 121. 105. 112. 126.  97. 109.  88. 100. 111. 134. 101.\n",
      " 111. 117. 109. 112. 126. 104. 132. 101.  86. 119. 117. 126.  90.  93.\n",
      " 110. 110. 125. 106.  90. 103. 105. 107.  95. 117. 120. 103. 117. 122.\n",
      " 108. 105.]\n"
     ]
    }
   ],
   "source": [
    "# Summarizing earthquakes of all magnitudes per day of the year\n",
    "for s in sismos2.Dia:   \n",
    "    sum_days_year_all[s-1] += 1 \n",
    "\n",
    "print(sum_days_year_all)"
   ]
  },
  {
   "cell_type": "code",
   "execution_count": 25,
   "metadata": {},
   "outputs": [],
   "source": [
    "# Defining function to convert number of the year into day format\n",
    "def get_date(day_num):\n",
    "    date_format = datetime.strptime('2004' + \"-\" + str(day_num), \"%Y-%j\").strftime(\"%Y-%m-%d\")\n",
    "    return(str(date_format))"
   ]
  },
  {
   "cell_type": "code",
   "execution_count": 26,
   "metadata": {},
   "outputs": [
    {
     "name": "stdout",
     "output_type": "stream",
     "text": [
      "The average number of earthquakes in one date is 113.0\n",
      "The maximum number of earthquakes in one date is 268.0 and the date is 09-07\n",
      "The minimum number of earthquakes in one date is 32.0 and the dates is 02-28\n"
     ]
    }
   ],
   "source": [
    "# Checking the mean, max and min numbers of all earthquakes per date\n",
    "maximum = get_date(np.where(sum_days_year_all == sum_days_year_all.max())[0][0])\n",
    "minimum = get_date(np.where(sum_days_year_all == sum_days_year_all.min())[0][0])\n",
    "print('The average number of earthquakes in one date is', round(sum_days_year_all.mean(), 0))\n",
    "print('The maximum number of earthquakes in one date is', round(sum_days_year_all.max(), 0), 'and the date is', maximum[-5:])\n",
    "print('The minimum number of earthquakes in one date is', round(sum_days_year_all.min(), 0), 'and the dates is', minimum[-5:])"
   ]
  },
  {
   "cell_type": "code",
   "execution_count": 27,
   "metadata": {},
   "outputs": [
    {
     "data": {
      "text/html": [
       "<div>\n",
       "<style scoped>\n",
       "    .dataframe tbody tr th:only-of-type {\n",
       "        vertical-align: middle;\n",
       "    }\n",
       "\n",
       "    .dataframe tbody tr th {\n",
       "        vertical-align: top;\n",
       "    }\n",
       "\n",
       "    .dataframe thead th {\n",
       "        text-align: right;\n",
       "    }\n",
       "</style>\n",
       "<table border=\"1\" class=\"dataframe\">\n",
       "  <thead>\n",
       "    <tr style=\"text-align: right;\">\n",
       "      <th></th>\n",
       "      <th>Magnitud</th>\n",
       "      <th>Latitud</th>\n",
       "      <th>Longitud</th>\n",
       "      <th>Profundidad</th>\n",
       "      <th>Fecha UTC</th>\n",
       "      <th>Hora UTC</th>\n",
       "      <th>Dia</th>\n",
       "    </tr>\n",
       "  </thead>\n",
       "  <tbody>\n",
       "    <tr>\n",
       "      <th>0</th>\n",
       "      <td>7.4</td>\n",
       "      <td>20.0000</td>\n",
       "      <td>-105.0000</td>\n",
       "      <td>33.0</td>\n",
       "      <td>20/01/1900</td>\n",
       "      <td>6:33:30</td>\n",
       "      <td>20</td>\n",
       "    </tr>\n",
       "    <tr>\n",
       "      <th>3</th>\n",
       "      <td>7.0</td>\n",
       "      <td>26.0000</td>\n",
       "      <td>-110.0000</td>\n",
       "      <td>33.0</td>\n",
       "      <td>09/12/1901</td>\n",
       "      <td>2:17:00</td>\n",
       "      <td>344</td>\n",
       "    </tr>\n",
       "    <tr>\n",
       "      <th>4</th>\n",
       "      <td>7.0</td>\n",
       "      <td>17.6200</td>\n",
       "      <td>-99.7200</td>\n",
       "      <td>33.0</td>\n",
       "      <td>16/01/1902</td>\n",
       "      <td>23:19:00</td>\n",
       "      <td>16</td>\n",
       "    </tr>\n",
       "    <tr>\n",
       "      <th>5</th>\n",
       "      <td>7.5</td>\n",
       "      <td>14.9000</td>\n",
       "      <td>-91.5000</td>\n",
       "      <td>25.0</td>\n",
       "      <td>19/04/1902</td>\n",
       "      <td>2:23:00</td>\n",
       "      <td>110</td>\n",
       "    </tr>\n",
       "    <tr>\n",
       "      <th>6</th>\n",
       "      <td>7.7</td>\n",
       "      <td>16.5000</td>\n",
       "      <td>-92.5000</td>\n",
       "      <td>25.0</td>\n",
       "      <td>23/09/1902</td>\n",
       "      <td>20:18:00</td>\n",
       "      <td>267</td>\n",
       "    </tr>\n",
       "    <tr>\n",
       "      <th>...</th>\n",
       "      <td>...</td>\n",
       "      <td>...</td>\n",
       "      <td>...</td>\n",
       "      <td>...</td>\n",
       "      <td>...</td>\n",
       "      <td>...</td>\n",
       "      <td>...</td>\n",
       "    </tr>\n",
       "    <tr>\n",
       "      <th>25355</th>\n",
       "      <td>7.1</td>\n",
       "      <td>18.3297</td>\n",
       "      <td>-98.6712</td>\n",
       "      <td>51.2</td>\n",
       "      <td>19/09/2017</td>\n",
       "      <td>18:14:39</td>\n",
       "      <td>263</td>\n",
       "    </tr>\n",
       "    <tr>\n",
       "      <th>28050</th>\n",
       "      <td>7.2</td>\n",
       "      <td>16.2180</td>\n",
       "      <td>-98.0135</td>\n",
       "      <td>16.0</td>\n",
       "      <td>16/02/2018</td>\n",
       "      <td>23:39:39</td>\n",
       "      <td>47</td>\n",
       "    </tr>\n",
       "    <tr>\n",
       "      <th>35330</th>\n",
       "      <td>7.4</td>\n",
       "      <td>15.8033</td>\n",
       "      <td>-96.1337</td>\n",
       "      <td>22.8</td>\n",
       "      <td>23/06/2020</td>\n",
       "      <td>15:29:03</td>\n",
       "      <td>175</td>\n",
       "    </tr>\n",
       "    <tr>\n",
       "      <th>38685</th>\n",
       "      <td>7.1</td>\n",
       "      <td>16.7553</td>\n",
       "      <td>-99.9533</td>\n",
       "      <td>15.0</td>\n",
       "      <td>08/09/2021</td>\n",
       "      <td>1:47:46</td>\n",
       "      <td>252</td>\n",
       "    </tr>\n",
       "    <tr>\n",
       "      <th>41187</th>\n",
       "      <td>7.7</td>\n",
       "      <td>18.2200</td>\n",
       "      <td>-103.2900</td>\n",
       "      <td>15.0</td>\n",
       "      <td>19/09/2022</td>\n",
       "      <td>18:05:09</td>\n",
       "      <td>263</td>\n",
       "    </tr>\n",
       "  </tbody>\n",
       "</table>\n",
       "<p>87 rows × 7 columns</p>\n",
       "</div>"
      ],
      "text/plain": [
       "       Magnitud  Latitud  Longitud  Profundidad   Fecha UTC  Hora UTC  Dia\n",
       "0           7.4  20.0000 -105.0000         33.0  20/01/1900   6:33:30   20\n",
       "3           7.0  26.0000 -110.0000         33.0  09/12/1901   2:17:00  344\n",
       "4           7.0  17.6200  -99.7200         33.0  16/01/1902  23:19:00   16\n",
       "5           7.5  14.9000  -91.5000         25.0  19/04/1902   2:23:00  110\n",
       "6           7.7  16.5000  -92.5000         25.0  23/09/1902  20:18:00  267\n",
       "...         ...      ...       ...          ...         ...       ...  ...\n",
       "25355       7.1  18.3297  -98.6712         51.2  19/09/2017  18:14:39  263\n",
       "28050       7.2  16.2180  -98.0135         16.0  16/02/2018  23:39:39   47\n",
       "35330       7.4  15.8033  -96.1337         22.8  23/06/2020  15:29:03  175\n",
       "38685       7.1  16.7553  -99.9533         15.0  08/09/2021   1:47:46  252\n",
       "41187       7.7  18.2200 -103.2900         15.0  19/09/2022  18:05:09  263\n",
       "\n",
       "[87 rows x 7 columns]"
      ]
     },
     "execution_count": 27,
     "metadata": {},
     "output_type": "execute_result"
    }
   ],
   "source": [
    "# Dropping values of Magnitud less than 7\n",
    "sismos7 = sismos2.query(\"Magnitud >= 7.0\")\n",
    "sismos7"
   ]
  },
  {
   "cell_type": "code",
   "execution_count": 28,
   "metadata": {},
   "outputs": [
    {
     "data": {
      "text/html": [
       "<div>\n",
       "<style scoped>\n",
       "    .dataframe tbody tr th:only-of-type {\n",
       "        vertical-align: middle;\n",
       "    }\n",
       "\n",
       "    .dataframe tbody tr th {\n",
       "        vertical-align: top;\n",
       "    }\n",
       "\n",
       "    .dataframe thead th {\n",
       "        text-align: right;\n",
       "    }\n",
       "</style>\n",
       "<table border=\"1\" class=\"dataframe\">\n",
       "  <thead>\n",
       "    <tr style=\"text-align: right;\">\n",
       "      <th></th>\n",
       "      <th>count</th>\n",
       "      <th>mean</th>\n",
       "      <th>std</th>\n",
       "      <th>min</th>\n",
       "      <th>25%</th>\n",
       "      <th>50%</th>\n",
       "      <th>75%</th>\n",
       "      <th>max</th>\n",
       "    </tr>\n",
       "  </thead>\n",
       "  <tbody>\n",
       "    <tr>\n",
       "      <th>Magnitud</th>\n",
       "      <td>87.0</td>\n",
       "      <td>7.321839</td>\n",
       "      <td>0.299000</td>\n",
       "      <td>7.000</td>\n",
       "      <td>7.100</td>\n",
       "      <td>7.300</td>\n",
       "      <td>7.50000</td>\n",
       "      <td>8.2</td>\n",
       "    </tr>\n",
       "    <tr>\n",
       "      <th>Latitud</th>\n",
       "      <td>87.0</td>\n",
       "      <td>18.084420</td>\n",
       "      <td>4.166108</td>\n",
       "      <td>13.346</td>\n",
       "      <td>16.117</td>\n",
       "      <td>17.000</td>\n",
       "      <td>18.33485</td>\n",
       "      <td>32.7</td>\n",
       "    </tr>\n",
       "    <tr>\n",
       "      <th>Longitud</th>\n",
       "      <td>87.0</td>\n",
       "      <td>-99.668393</td>\n",
       "      <td>6.530041</td>\n",
       "      <td>-115.500</td>\n",
       "      <td>-102.800</td>\n",
       "      <td>-98.667</td>\n",
       "      <td>-95.43850</td>\n",
       "      <td>-89.0</td>\n",
       "    </tr>\n",
       "    <tr>\n",
       "      <th>Profundidad</th>\n",
       "      <td>87.0</td>\n",
       "      <td>39.114943</td>\n",
       "      <td>29.582433</td>\n",
       "      <td>9.000</td>\n",
       "      <td>22.900</td>\n",
       "      <td>33.000</td>\n",
       "      <td>37.00000</td>\n",
       "      <td>160.0</td>\n",
       "    </tr>\n",
       "    <tr>\n",
       "      <th>Dia</th>\n",
       "      <td>87.0</td>\n",
       "      <td>196.356322</td>\n",
       "      <td>109.170656</td>\n",
       "      <td>6.000</td>\n",
       "      <td>106.000</td>\n",
       "      <td>210.000</td>\n",
       "      <td>286.50000</td>\n",
       "      <td>366.0</td>\n",
       "    </tr>\n",
       "  </tbody>\n",
       "</table>\n",
       "</div>"
      ],
      "text/plain": [
       "             count        mean         std      min      25%      50%  \\\n",
       "Magnitud      87.0    7.321839    0.299000    7.000    7.100    7.300   \n",
       "Latitud       87.0   18.084420    4.166108   13.346   16.117   17.000   \n",
       "Longitud      87.0  -99.668393    6.530041 -115.500 -102.800  -98.667   \n",
       "Profundidad   87.0   39.114943   29.582433    9.000   22.900   33.000   \n",
       "Dia           87.0  196.356322  109.170656    6.000  106.000  210.000   \n",
       "\n",
       "                   75%    max  \n",
       "Magnitud       7.50000    8.2  \n",
       "Latitud       18.33485   32.7  \n",
       "Longitud     -95.43850  -89.0  \n",
       "Profundidad   37.00000  160.0  \n",
       "Dia          286.50000  366.0  "
      ]
     },
     "execution_count": 28,
     "metadata": {},
     "output_type": "execute_result"
    }
   ],
   "source": [
    "# Summary for earthquakes greater or equal to 7.0 magnitude\n",
    "sismos7.describe().T"
   ]
  },
  {
   "cell_type": "markdown",
   "metadata": {},
   "source": [
    "**Observations:**\n",
    "* Thera are 87 earthquakes greater o equal than 7.0\n",
    "* The mean of magnitude for these events is high: 7.3.\n",
    "* The depth for these events is the same as the overall mean: ~39km (shallow)."
   ]
  },
  {
   "cell_type": "code",
   "execution_count": 29,
   "metadata": {},
   "outputs": [
    {
     "data": {
      "text/html": [
       "<div>\n",
       "<style scoped>\n",
       "    .dataframe tbody tr th:only-of-type {\n",
       "        vertical-align: middle;\n",
       "    }\n",
       "\n",
       "    .dataframe tbody tr th {\n",
       "        vertical-align: top;\n",
       "    }\n",
       "\n",
       "    .dataframe thead th {\n",
       "        text-align: right;\n",
       "    }\n",
       "</style>\n",
       "<table border=\"1\" class=\"dataframe\">\n",
       "  <thead>\n",
       "    <tr style=\"text-align: right;\">\n",
       "      <th></th>\n",
       "      <th>Magnitud</th>\n",
       "      <th>Latitud</th>\n",
       "      <th>Longitud</th>\n",
       "      <th>Profundidad</th>\n",
       "      <th>Fecha UTC</th>\n",
       "      <th>Hora UTC</th>\n",
       "      <th>Dia</th>\n",
       "    </tr>\n",
       "  </thead>\n",
       "  <tbody>\n",
       "    <tr>\n",
       "      <th>1614</th>\n",
       "      <td>8.1</td>\n",
       "      <td>18.4190</td>\n",
       "      <td>-102.4680</td>\n",
       "      <td>15.0</td>\n",
       "      <td>19/09/1985</td>\n",
       "      <td>13:17:49</td>\n",
       "      <td>263</td>\n",
       "    </tr>\n",
       "    <tr>\n",
       "      <th>25355</th>\n",
       "      <td>7.1</td>\n",
       "      <td>18.3297</td>\n",
       "      <td>-98.6712</td>\n",
       "      <td>51.2</td>\n",
       "      <td>19/09/2017</td>\n",
       "      <td>18:14:39</td>\n",
       "      <td>263</td>\n",
       "    </tr>\n",
       "    <tr>\n",
       "      <th>41187</th>\n",
       "      <td>7.7</td>\n",
       "      <td>18.2200</td>\n",
       "      <td>-103.2900</td>\n",
       "      <td>15.0</td>\n",
       "      <td>19/09/2022</td>\n",
       "      <td>18:05:09</td>\n",
       "      <td>263</td>\n",
       "    </tr>\n",
       "  </tbody>\n",
       "</table>\n",
       "</div>"
      ],
      "text/plain": [
       "       Magnitud  Latitud  Longitud  Profundidad   Fecha UTC  Hora UTC  Dia\n",
       "1614        8.1  18.4190 -102.4680         15.0  19/09/1985  13:17:49  263\n",
       "25355       7.1  18.3297  -98.6712         51.2  19/09/2017  18:14:39  263\n",
       "41187       7.7  18.2200 -103.2900         15.0  19/09/2022  18:05:09  263"
      ]
     },
     "execution_count": 29,
     "metadata": {},
     "output_type": "execute_result"
    }
   ],
   "source": [
    "# Earthquakes occurred on Sept 19.\n",
    "s = sismos7.query(\"Dia == 263\")\n",
    "s"
   ]
  },
  {
   "cell_type": "code",
   "execution_count": 30,
   "metadata": {},
   "outputs": [
    {
     "name": "stdout",
     "output_type": "stream",
     "text": [
      "[0. 0. 0. 0. 0. 1. 0. 0. 0. 0. 1. 0. 0. 1. 1. 1. 0. 0. 0. 1. 0. 1. 0. 0.\n",
      " 0. 0. 0. 0. 0. 1. 0. 0. 0. 0. 2. 0. 0. 0. 0. 0. 0. 0. 0. 0. 0. 0. 1. 0.\n",
      " 0. 0. 0. 0. 1. 0. 0. 1. 0. 0. 0. 0. 0. 0. 0. 0. 0. 0. 0. 0. 0. 0. 0. 0.\n",
      " 0. 1. 0. 0. 0. 0. 0. 1. 0. 1. 0. 0. 0. 1. 1. 0. 0. 1. 0. 0. 0. 0. 1. 0.\n",
      " 0. 0. 0. 0. 1. 0. 0. 0. 0. 2. 0. 0. 1. 1. 0. 0. 0. 0. 0. 0. 0. 0. 0. 2.\n",
      " 1. 0. 0. 0. 0. 0. 0. 0. 0. 0. 0. 1. 0. 0. 0. 0. 0. 0. 0. 2. 0. 0. 0. 0.\n",
      " 0. 0. 0. 0. 0. 0. 0. 0. 0. 1. 1. 0. 0. 0. 2. 0. 0. 0. 0. 0. 0. 0. 1. 0.\n",
      " 1. 1. 1. 0. 0. 0. 1. 0. 0. 0. 0. 1. 0. 0. 0. 0. 0. 0. 0. 1. 0. 0. 0. 0.\n",
      " 0. 0. 0. 0. 0. 0. 0. 0. 0. 0. 0. 0. 0. 0. 0. 1. 0. 1. 0. 1. 0. 0. 1. 0.\n",
      " 1. 0. 1. 0. 0. 1. 0. 0. 0. 0. 0. 0. 0. 0. 0. 0. 0. 0. 0. 1. 0. 0. 0. 0.\n",
      " 1. 0. 0. 0. 0. 0. 0. 0. 0. 0. 1. 2. 0. 1. 0. 0. 0. 1. 0. 0. 0. 0. 3. 0.\n",
      " 1. 0. 1. 0. 0. 0. 0. 0. 1. 1. 0. 0. 0. 0. 0. 0. 0. 0. 2. 0. 0. 0. 0. 0.\n",
      " 0. 1. 0. 0. 0. 0. 1. 0. 1. 1. 1. 0. 0. 0. 0. 0. 0. 0. 0. 0. 0. 0. 0. 1.\n",
      " 0. 0. 0. 0. 0. 0. 0. 0. 1. 0. 0. 0. 0. 1. 0. 0. 0. 0. 0. 0. 0. 1. 1. 0.\n",
      " 1. 0. 0. 0. 0. 0. 0. 2. 1. 0. 2. 0. 2. 0. 1. 1. 0. 0. 0. 0. 0. 1. 0. 0.\n",
      " 0. 0. 0. 0. 0. 1.]\n"
     ]
    }
   ],
   "source": [
    "# Summarizing earthquakes of magnitude 7.0 or greater per date of the year\n",
    "for s in sismos7.Dia:   \n",
    "    sum_days_year_mag7[s-1] += 1 \n",
    "\n",
    "print(sum_days_year_mag7)"
   ]
  },
  {
   "cell_type": "code",
   "execution_count": 31,
   "metadata": {},
   "outputs": [
    {
     "data": {
      "image/png": "[encoded data removed]",
      "text/plain": [
       "<Figure size 720x360 with 1 Axes>"
      ]
     },
     "metadata": {
      "needs_background": "light"
     },
     "output_type": "display_data"
    }
   ],
   "source": [
    "# Plotting distribution for all earthquakes.\n",
    "sns.displot(sismos2['Dia'], kde = True, height = 5, aspect = 2, bins = 366)\n",
    "plt.title('Distribution of all earthquakes per date', size = 16)\n",
    "plt.ylabel('count');"
   ]
  },
  {
   "cell_type": "code",
   "execution_count": 32,
   "metadata": {},
   "outputs": [
    {
     "data": {
      "text/plain": [
       "Text(0.5, 1.0, 'Distribution of earthquakes of magnitude 7 o greater per date')"
      ]
     },
     "execution_count": 32,
     "metadata": {},
     "output_type": "execute_result"
    },
    {
     "data": {
      "image/png": "[encoded data removed]",
      "text/plain": [
       "<Figure size 720x360 with 1 Axes>"
      ]
     },
     "metadata": {
      "needs_background": "light"
     },
     "output_type": "display_data"
    }
   ],
   "source": [
    "# Plotting distribution for magnitude 7.0 or greater.\n",
    "ax = sns.displot(sismos7.Dia, kde = True, aspect = 2)\n",
    "plt.title('Distribution of earthquakes of magnitude 7 o greater per date', size = 16)"
   ]
  },
  {
   "cell_type": "markdown",
   "metadata": {},
   "source": [
    "**Observations:**\n",
    "* In both cases, the distribution of all earthquakes and the distribution of earthquakes greater or equal to 7 are approximately uniform.\n",
    "* There is a peak of earthquakes around September for the overall and the big earthquakes distributions. It shows the probability of earthquake occurrence in sept seems to be a little higher than the rest of the year. "
   ]
  },
  {
   "cell_type": "code",
   "execution_count": 33,
   "metadata": {},
   "outputs": [
    {
     "name": "stdout",
     "output_type": "stream",
     "text": [
      "The experimental estimated probability of one big earthquake occurring on 19 Sept is 0.009136610670932632\n"
     ]
    },
    {
     "data": {
      "text/plain": [
       "<matplotlib.collections.PolyCollection at 0x1c0d0afe7c0>"
      ]
     },
     "execution_count": 33,
     "metadata": {},
     "output_type": "execute_result"
    },
    {
     "data": {
      "image/png": "[encoded data removed]",
      "text/plain": [
       "<Figure size 432x288 with 1 Axes>"
      ]
     },
     "metadata": {
      "needs_background": "light"
     },
     "output_type": "display_data"
    }
   ],
   "source": [
    "# Calculating P(X=3), i.e. probability that 3 earthquakes of magnitude greater or equal than 7.0 ocurre the 19 sept specifically.\n",
    "ax = sns.distplot(sismos7.Dia, hist = True) \n",
    "plt.title('Probability of occurence on 19 september', size = 12)\n",
    "\n",
    "# Value to estimate for (263 represents 19 sept)\n",
    "value = 263\n",
    "\n",
    "# Get the data from the KDE line\n",
    "xdata, ydata = ax.get_lines()[0].get_data()\n",
    "\n",
    "# The curve of the distribution obtained is an estimation from reality. It isn't the exact distribution but it's the best guest. \n",
    "# We need to find the closest x-point on the curve to 'value'.\n",
    "d = (np.abs(xdata-value)).argmin()\n",
    "\n",
    "# Find the probability using de Cumulative Density function for an interval of one (between 263 and 264).\n",
    "# This is the integral of the PDF (Probability Distribution Function) found with the distplot function.\n",
    "cdf = scipy.integrate.cumtrapz(ydata, xdata, initial=0)\n",
    "pr = cdf[d] - cdf[d-1]\n",
    "print('The experimental estimated probability of one big earthquake occurring on 19 Sept is', pr)\n",
    "\n",
    "# Indication of the point (date) 263 on the curve\n",
    "plt.fill_between(xdata,ydata, where = (xdata>=value) & (xdata<=value+1), color='r')"
   ]
  },
  {
   "cell_type": "code",
   "execution_count": 34,
   "metadata": {},
   "outputs": [
    {
     "name": "stdout",
     "output_type": "stream",
     "text": [
      "0.9998700078581151\n",
      "0.009108723885121288\n"
     ]
    }
   ],
   "source": [
    "# Checking PDF is a density\n",
    "print(cdf[199]) #The integral below the whole curve should be 1\n",
    "\n",
    "# Checking the CDF is returning a correct value (using Riemann sum)\n",
    "height = ydata[124] # Value of PDF in the x-point that corresponds to Sept 19\n",
    "width = (xdata[199]-xdata[0])/200 # width of each rectangle under the PDF curve \n",
    "area = height*width \n",
    "print(area)"
   ]
  },
  {
   "cell_type": "markdown",
   "metadata": {},
   "source": [
    "**Observations:**\n",
    "* The area under the whole PDF curve is around 0.9999 which is a very good approximation of 1, so the PDF is a density.\n",
    "* The probability (area) estimation using Riemann sum for Sept 19 is almost the same as the one calculated by the CDF, i.e., CDF is returning logical values."
   ]
  },
  {
   "cell_type": "code",
   "execution_count": 35,
   "metadata": {},
   "outputs": [
    {
     "name": "stdout",
     "output_type": "stream",
     "text": [
      "The experimental estimated probability of 3 big earthquakes ocurring in Sept 19 is 7.62702829366059e-07\n"
     ]
    }
   ],
   "source": [
    "# Calculating the experimental probability of 3 earthquakes of magnitude greater or equal than 7.0 ocurring in sept 19\n",
    "pr3 = pr**3\n",
    "print('The experimental estimated probability of 3 big earthquakes ocurring in Sept 19 is', pr3)"
   ]
  },
  {
   "cell_type": "code",
   "execution_count": 36,
   "metadata": {},
   "outputs": [
    {
     "name": "stdout",
     "output_type": "stream",
     "text": [
      "The theoretical probability of one big earthquake is 0.0027397260273972603\n",
      "The theoretical probability of 3 big earthquakes is 2.0564653986843763e-08\n",
      "The experimental estimated probability of 3 big earthquakes is around 37.0 bigger than the theoretical probability\n"
     ]
    }
   ],
   "source": [
    "# Calculating theoretical probability based on a uniform distribution of earthquakes\n",
    "\n",
    "# Calculating the theoretical probability of one big earthquake on sept 19.\n",
    "tp1 = 1 / 365\n",
    "print('The theoretical probability of one big earthquake is', tp1)\n",
    "\n",
    "# Calculating the theoretical probability of 3 big earthquake on sept 19.\n",
    "tp3 = tp1**3\n",
    "print('The theoretical probability of 3 big earthquakes is', tp3)\n",
    "\n",
    "# Comparing the theoretical and the empirical estimated probability\n",
    "r = pr3 / tp3\n",
    "print('The experimental estimated probability of 3 big earthquakes is around', round(r,0), 'bigger than the theoretical probability')"
   ]
  },
  {
   "cell_type": "markdown",
   "metadata": {},
   "source": [
    "**Observations:**\n",
    "* The experimental estimated probability of 3 big earthquakes on Sept 19 is very small: $P(X=3)=7.63e-07$.\n",
    "* The theoretical probability of 3 big earthquakes on sept 19 is even smaller: $P(X=3)=2.1e-08$.\n",
    "* The experimental estimated probability is 37 (one order of magnitude) bigger than the theoretical probability which is logical due to the peak of September.\n"
   ]
  },
  {
   "cell_type": "markdown",
   "metadata": {},
   "source": [
    "## Conclusions ##\n",
    "* Both probabilities (theoretical and experimental) are low but the difference between them is just one order of magnitude.\n",
    "* The experimental estimated probability of 3 big earthquakes is higher than theoretical because in real life there is a peak in the earthquake count in Sept.\n",
    "* In this project, the experimental probability was estimated using **KDE (Kernel Density Estimation)** which is a non-parametric method to estimate the probability density function (PDF) of a random variable based on kernels as weights. **Using different estimation methods may lead to finding different results.**"
   ]
  },
  {
   "cell_type": "code",
   "execution_count": null,
   "metadata": {},
   "outputs": [],
   "source": []
  }
 ],
 "metadata": {
  "colab": {
   "collapsed_sections": [],
   "name": "Medicon Dose Testing",
   "provenance": []
  },
  "kernelspec": {
   "display_name": "Python 3 (ipykernel)",
   "language": "python",
   "name": "python3"
  },
  "language_info": {
   "codemirror_mode": {
    "name": "ipython",
    "version": 3
   },
   "file_extension": ".py",
   "mimetype": "text/x-python",
   "name": "python",
   "nbconvert_exporter": "python",
   "pygments_lexer": "ipython3",
   "version": "3.9.7"
  }
 },
 "nbformat": 4,
 "nbformat_minor": 1
}
